{
 "cells": [
  {
   "cell_type": "markdown",
   "id": "42c878f5",
   "metadata": {},
   "source": [
    "please slove the question \n",
    "find the second highest element without using inbuilt function in python\n",
    "Input = {1,4,7,8,4,8,1,4,9}"
   ]
  },
  {
   "cell_type": "code",
   "execution_count": 2,
   "id": "75d7fd93",
   "metadata": {},
   "outputs": [
    {
     "name": "stdout",
     "output_type": "stream",
     "text": [
      "Second highest element: 8\n"
     ]
    }
   ],
   "source": [
    "def second_highest(input_set):\n",
    "    highest = second_highest = float('-inf')  \n",
    "    \n",
    "    for num in input_set:\n",
    "        if num > highest:\n",
    "            second_highest = highest  # Update second highest\n",
    "            highest = num  # Update highest\n",
    "        elif num > second_highest and num != highest:\n",
    "            second_highest = num  \n",
    "    \n",
    "    return second_highest\n",
    "\n",
    "# Input set\n",
    "input_set = {1, 4, 7, 8, 4, 8, 1, 4, 9}\n",
    "result = second_highest(input_set)\n",
    "print(\"Second highest element:\", result)\n"
   ]
  },
  {
   "cell_type": "code",
   "execution_count": null,
   "id": "773ebacc",
   "metadata": {},
   "outputs": [],
   "source": []
  }
 ],
 "metadata": {
  "kernelspec": {
   "display_name": "Python 3 (ipykernel)",
   "language": "python",
   "name": "python3"
  },
  "language_info": {
   "codemirror_mode": {
    "name": "ipython",
    "version": 3
   },
   "file_extension": ".py",
   "mimetype": "text/x-python",
   "name": "python",
   "nbconvert_exporter": "python",
   "pygments_lexer": "ipython3",
   "version": "3.11.5"
  }
 },
 "nbformat": 4,
 "nbformat_minor": 5
}
